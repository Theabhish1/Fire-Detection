{
 "cells": [
  {
   "cell_type": "markdown",
   "id": "ba7759e1",
   "metadata": {},
   "source": [
    "# Fire Detection Project"
   ]
  },
  {
   "cell_type": "code",
   "execution_count": null,
   "id": "503835e1",
   "metadata": {},
   "outputs": [],
   "source": [
    "import os\n",
    "import cv2\n",
    "import numpy as np\n",
    "import matplotlib.pyplot as plt\n",
    "from tensorflow.keras import utils\n",
    "from tensorflow.keras.optimizers import SGD\n",
    "from sklearn.model_selection import train_test_split\n",
    "from tensorflow.keras.models import Sequential,load_model\n",
    "from tensorflow.keras.preprocessing.image import ImageDataGenerator\n",
    "from keras.layers import Dense, Flatten\n",
    "from tensorflow.keras.layers import BatchNormalization,Dense,Conv2D,SeparableConv2D,MaxPooling2D,Activation,Flatten,Dropout"
   ]
  },
  {
   "cell_type": "code",
   "execution_count": null,
   "id": "a9effed5",
   "metadata": {},
   "outputs": [],
   "source": [
    "# define the initial learning rate, batch size, and number of epochs\n",
    "IMAGE_WIDTH = 224\n",
    "IMAGE_HEIGHT = 224\n",
    "IMAGE_CHANNELS = 3\n",
    "IMAGE_SIZE = (IMAGE_WIDTH, IMAGE_HEIGHT)\n",
    "INIT_LR = 0.1\n",
    "BATCH_SIZE = 64\n",
    "NUM_EPOCHS = 50 #50\n",
    "lr_find = True\n",
    "FAST_RUN = True"
   ]
  },
  {
   "cell_type": "code",
   "execution_count": null,
   "id": "3d9136a8",
   "metadata": {},
   "outputs": [],
   "source": [
    "classes = ['Non_fire','fire']\n",
    "\n",
    "fire = r\"C:\\Users\\Abhishek Jaiswal\\Downloads\\16271094.zip\\Fire_Detector\\Fire\"\n",
    "\n",
    "images = []\n",
    "labels = []\n",
    "\n",
    "#fire class\n",
    "for img in os.listdir(fire):\n",
    "    image_path = os.path.join(fire, img)\n",
    "    img = cv2.imread(image_path) \n",
    "    img = cv2.resize(img,(IMAGE_SIZE))\n",
    "    images.append(img)\n",
    "    labels.append([0,1][img=='Fire'])\n",
    "\n",
    "    \n",
    "images = np.array(images,dtype='float64')/255"
   ]
  },
  {
   "cell_type": "code",
   "execution_count": null,
   "id": "cf10219c",
   "metadata": {},
   "outputs": [],
   "source": [
    "random_index = np.random.randint(len(images))\n",
    "\n",
    "\n",
    "random_image = images[random_index]\n",
    "random_label = labels[random_index]\n",
    "\n",
    "# Display the image\n",
    "plt.imshow(random_image)\n",
    "plt.title('Label: {}'.format(random_label))\n",
    "plt.show()"
   ]
  },
  {
   "cell_type": "code",
   "execution_count": null,
   "id": "a3334cfd",
   "metadata": {},
   "outputs": [],
   "source": [
    "train_gen =ImageDataGenerator(rotation_range = 20,\n",
    "    rescale = 1./255,\n",
    "    shear_range = 0.2,\n",
    "    zoom_range = 0.2,\n",
    "    horizontal_flip = True,\n",
    "    width_shift_range = 0.3,\n",
    "    fill_mode='nearest',\n",
    "    brightness_range=[0.5, 1.5],\n",
    "    height_shift_range = 0.3)"
   ]
  },
  {
   "cell_type": "code",
   "execution_count": null,
   "id": "66a00017",
   "metadata": {},
   "outputs": [],
   "source": [
    "labels = np.array(labels)\n",
    "labels = utils.to_categorical(labels,num_classes=2)\n",
    "\n",
    "classTotals = labels.sum(axis=0)\n",
    "classWeight = classTotals.max() / classTotals"
   ]
  },
  {
   "cell_type": "code",
   "execution_count": null,
   "id": "35f815ab",
   "metadata": {},
   "outputs": [],
   "source": [
    "aug = ImageDataGenerator(\n",
    "    rotation_range=30,\n",
    "    zoom_range=0.15,\n",
    "    width_shift_range=0.2,\n",
    "    height_shift_range=0.2,\n",
    "    shear_range=0.15,\n",
    "    horizontal_flip=True,\n",
    "    fill_mode=\"nearest\")"
   ]
  },
  {
   "cell_type": "code",
   "execution_count": null,
   "id": "4732fe9f",
   "metadata": {},
   "outputs": [],
   "source": [
    "model = Sequential()\n",
    "\n",
    "model.add(Conv2D(16,(3,3), activation = 'relu', padding = 'same', input_shape=(IMAGE_WIDTH, IMAGE_HEIGHT, IMAGE_CHANNELS)))\n",
    "model.add(BatchNormalization())\n",
    "model.add(MaxPooling2D(pool_size=(2,2)))\n",
    "model.add(Dropout(0.25))\n",
    "\n",
    "\n",
    "model.add(Conv2D(32,(3,3), activation = 'relu', padding = 'same'))\n",
    "model.add(BatchNormalization())\n",
    "model.add(MaxPooling2D(pool_size=(2,2)))\n",
    "model.add(Dropout(0.25))\n",
    "          \n",
    "model.add(Conv2D(64,(3,3), activation = 'relu', padding = 'same'))\n",
    "model.add(BatchNormalization())\n",
    "model.add(MaxPooling2D(pool_size=(2,2)))\n",
    "model.add(Dropout(0.25))\n",
    "          \n",
    "model.add(Conv2D(128,(3,3), activation = 'relu', padding = 'same'))\n",
    "model.add(BatchNormalization())\n",
    "model.add(MaxPooling2D(pool_size=(2,2)))\n",
    "model.add(Dropout(0.25))\n",
    "          \n",
    "model.add(Conv2D(256,(3,3), activation = 'relu', padding = 'same'))\n",
    "model.add(BatchNormalization())\n",
    "model.add(MaxPooling2D(pool_size=(2,2)))\n",
    "model.add(Dropout(0.25))\n",
    "          \n",
    "model.add(Flatten())\n",
    "\n",
    "model.add(Dense(512, activation = 'relu'))\n",
    "model.add(BatchNormalization())\n",
    "model.add(Dropout(0.5))\n",
    "\n",
    "model.add(Dense(256, activation = 'relu'))\n",
    "model.add(BatchNormalization())\n",
    "model.add(Dropout(0.5))\n",
    "\n",
    "model.add(Dense(2, activation='softmax'))\n",
    "\n",
    "model.compile(loss = 'categorical_crossentropy', optimizer = 'rmsprop', metrics = ['accuracy'])\n",
    "\n",
    "model.summary()"
   ]
  },
  {
   "cell_type": "code",
   "execution_count": null,
   "id": "2cbf735f",
   "metadata": {},
   "outputs": [],
   "source": [
    "X_train, X_test, y_train, y_test = train_test_split(images, labels, test_size=0.50, shuffle=True, random_state=42)"
   ]
  },
  {
   "cell_type": "code",
   "execution_count": null,
   "id": "e28feef6",
   "metadata": {},
   "outputs": [],
   "source": [
    "X_train.shape"
   ]
  },
  {
   "cell_type": "code",
   "execution_count": null,
   "id": "9df79d84",
   "metadata": {},
   "outputs": [],
   "source": [
    "BATCH_SIZE"
   ]
  },
  {
   "cell_type": "code",
   "execution_count": null,
   "id": "caddd581",
   "metadata": {},
   "outputs": [],
   "source": [
    "epochs = 50\n",
    "\n",
    "detection = model.fit(\n",
    "    train_gen.flow(X_train, y_train, batch_size=BATCH_SIZE),\n",
    "    validation_data=(X_test, y_test),\n",
    "    steps_per_epoch=X_train.shape[0] // BATCH_SIZE,\n",
    "    epochs=epochs,  # Using the variable here\n",
    "#     callbacks=callbacks\n",
    ")\n",
    "\n",
    "model.save('fire_detection.h5')"
   ]
  },
  {
   "cell_type": "code",
   "execution_count": null,
   "id": "257ee6c1",
   "metadata": {},
   "outputs": [],
   "source": [
    "plt.plot(detection.history['accuracy'], label='Training Accuracy')\n",
    "plt.plot(detection.history['loss'], label='losses')\n",
    "plt.xlabel('Epoch')\n",
    "plt.ylabel('Accuracy')\n",
    "plt.legend()\n",
    "plt.show()"
   ]
  },
  {
   "cell_type": "code",
   "execution_count": null,
   "id": "f52d6814",
   "metadata": {},
   "outputs": [],
   "source": [
    "plt.plot(detection.history['val_loss'], label='val loss')\n",
    "plt.plot(detection.history['val_accuracy'], label='Validation Accuracy')\n",
    "plt.xlabel('Epoch')\n",
    "plt.ylabel('Accuracy')\n",
    "plt.legend()\n",
    "plt.show()"
   ]
  },
  {
   "cell_type": "code",
   "execution_count": null,
   "id": "01315ebe",
   "metadata": {},
   "outputs": [],
   "source": [
    "for i in range(50):\n",
    "    random_index = np.random.randint(0,len(X_test))\n",
    "    org_img = X_test[random_index]*255\n",
    "    img = org_img.copy()\n",
    "    img = cv2.resize(img,(128,128))\n",
    "    img = img.astype('float32')/256\n",
    "    pred = model.predict(np.expand_dims(img,axis=0))[0]\n",
    "    result = classes[np.argmax(pred)]\n",
    "    org_img = cv2.resize(org_img,(500,500))\n",
    "    cv2.putText(org_img, result, (35, 50), cv2.FONT_HERSHEY_SIMPLEX,1.25, (0, 255, 0), 3)\n",
    "    cv2.imwrite('output/testing/{}.png'.format(i),org_img)\n"
   ]
  },
  {
   "cell_type": "code",
   "execution_count": null,
   "id": "848b8057",
   "metadata": {},
   "outputs": [],
   "source": []
  }
 ],
 "metadata": {
  "kernelspec": {
   "display_name": "Python 3 (ipykernel)",
   "language": "python",
   "name": "python3"
  },
  "language_info": {
   "codemirror_mode": {
    "name": "ipython",
    "version": 3
   },
   "file_extension": ".py",
   "mimetype": "text/x-python",
   "name": "python",
   "nbconvert_exporter": "python",
   "pygments_lexer": "ipython3",
   "version": "3.11.5"
  }
 },
 "nbformat": 4,
 "nbformat_minor": 5
}
